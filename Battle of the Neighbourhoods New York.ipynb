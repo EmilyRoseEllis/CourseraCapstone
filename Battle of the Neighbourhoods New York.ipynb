{
    "cells": [
        {
            "cell_type": "markdown",
            "metadata": {
                "collapsed": true
            },
            "source": "# CAPSTONE - Battle of the Neighbourhoods"
        },
        {
            "cell_type": "markdown",
            "metadata": {},
            "source": "## Introduction"
        },
        {
            "cell_type": "markdown",
            "metadata": {},
            "source": "This final assignment in the Data Science Coursera course will look at where are good locations in New York City to open a Restaurant.\nThe target of this research is a new business owner looking to open a new restaurant and have it be successful"
        },
        {
            "cell_type": "markdown",
            "metadata": {},
            "source": "## Business Problem"
        },
        {
            "cell_type": "markdown",
            "metadata": {},
            "source": "Analyse different factors of opening a restaurant in New York, including Population, Demographics, Competitors etc"
        },
        {
            "cell_type": "markdown",
            "metadata": {},
            "source": "## Data"
        },
        {
            "cell_type": "markdown",
            "metadata": {},
            "source": "The Foursquare location data will be used to analyse New York information to recommend a good place to open a restaurant."
        },
        {
            "cell_type": "markdown",
            "metadata": {},
            "source": "## Import requirements"
        },
        {
            "cell_type": "code",
            "execution_count": 4,
            "metadata": {},
            "outputs": [],
            "source": "import numpy as np \n\nimport pandas as pd \npd.set_option('display.max_columns', None)\npd.set_option('display.max_rows', None)\n"
        },
        {
            "cell_type": "code",
            "execution_count": null,
            "metadata": {},
            "outputs": [
                {
                    "name": "stdout",
                    "output_type": "stream",
                    "text": "Solving environment: | "
                }
            ],
            "source": "import json\n\n!conda install -c conda-forge geopy --yes \nfrom geopy.geocoders import Nominatim \n\nimport requests \n"
        },
        {
            "cell_type": "code",
            "execution_count": null,
            "metadata": {},
            "outputs": [],
            "source": "import matplotlib.cm as cm\nimport matplotlib.colors as colors\n\n!conda install -c conda-forge folium=0.5.0 --yes\nimport folium \n\nimport csv"
        },
        {
            "cell_type": "markdown",
            "metadata": {},
            "source": "## Access Data"
        },
        {
            "cell_type": "code",
            "execution_count": 3,
            "metadata": {},
            "outputs": [],
            "source": "!wget -q -O 'newyork_data.json' https://ibm.box.com/shared/static/fbpwbovar7lf8p5sgddm06cgipa2rxpe.json"
        },
        {
            "cell_type": "markdown",
            "metadata": {},
            "source": "## Load and Explore Data"
        },
        {
            "cell_type": "code",
            "execution_count": null,
            "metadata": {},
            "outputs": [],
            "source": "with open('newyork_data.json') as json_data:\n    newyork_data = json.load(json_data)"
        },
        {
            "cell_type": "code",
            "execution_count": null,
            "metadata": {},
            "outputs": [],
            "source": "neighborhoods_data = newyork_data['features']"
        },
        {
            "cell_type": "code",
            "execution_count": null,
            "metadata": {},
            "outputs": [],
            "source": "neighborhoods_data[0]"
        },
        {
            "cell_type": "markdown",
            "metadata": {},
            "source": "## Transform to Data Frame"
        },
        {
            "cell_type": "code",
            "execution_count": null,
            "metadata": {},
            "outputs": [],
            "source": "column_names = ['Borough', 'Neighborhood', 'Latitude', 'Longitude'] \nneighborhoods = pd.DataFrame(columns=column_names)\n"
        },
        {
            "cell_type": "markdown",
            "metadata": {},
            "source": "## Fill the Data"
        },
        {
            "cell_type": "code",
            "execution_count": null,
            "metadata": {},
            "outputs": [],
            "source": "for data in neighbourhoods_data:\n    borough = neighbourhood_name = data['properties']['borough'] \n    neighbourhood_name = data['properties']['name']\n        \n    neighbourhood_latlon = data['geometry']['coordinates']\n    neighbourhood_lat = neighbourhood_latlon[1]\n    neighbourhood_lon = neighbourhood_latlon[0]\n    \n    neighbourhoods = neighbourhoods.append({'Borough': borough,\n                                          'Neighborhood': neighbourhood_name,\n                                          'Latitude': neighbourhood_lat,\n                                          'Longitude': neighbuorhood_lon}, ignore_index=True)"
        },
        {
            "cell_type": "markdown",
            "metadata": {},
            "source": "## Find Location of NY"
        },
        {
            "cell_type": "code",
            "execution_count": null,
            "metadata": {},
            "outputs": [],
            "source": "address = 'New York City, NY'\n\ngeolocator = Nominatim(user_agent=\"Jupyter\")\nlocation = geolocator.geocode(address)\nlatitude = location.latitude\nlongitude = location.longitude"
        },
        {
            "cell_type": "markdown",
            "metadata": {},
            "source": "## Map NY"
        },
        {
            "cell_type": "code",
            "execution_count": null,
            "metadata": {},
            "outputs": [],
            "source": "map_NewYork = folium.Map(location=[latitude, longitude], zoom_start=10)\n\nfor lat, lng, borough, neighborhood in zip(neighborhoods['Latitude'], neighborhoods['Longitude'], neighborhoods['Borough'], neighborhoods['Neighbourhood']):\n    label = '{}, {}'.format(neighborhood, borough)\n    label = folium.Popup(label, parse_html=True)\n    folium.CircleMarker(\n        [lat, lng],\n        radius=5,\n        popup=label,\n        color='blue',\n        fill=True,\n        fill_color='#3186cc',\n        fill_opacity=0.7,\n        parse_html=False).add_to(map_NewYork)  \n    \nmap_NewYork"
        },
        {
            "cell_type": "code",
            "execution_count": null,
            "metadata": {},
            "outputs": [],
            "source": ""
        }
    ],
    "metadata": {
        "kernelspec": {
            "display_name": "Python 3.6",
            "language": "python",
            "name": "python3"
        },
        "language_info": {
            "codemirror_mode": {
                "name": "ipython",
                "version": 3
            },
            "file_extension": ".py",
            "mimetype": "text/x-python",
            "name": "python",
            "nbconvert_exporter": "python",
            "pygments_lexer": "ipython3",
            "version": "3.6.9"
        }
    },
    "nbformat": 4,
    "nbformat_minor": 1
}